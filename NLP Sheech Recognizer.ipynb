{
 "cells": [
  {
   "cell_type": "code",
   "execution_count": 1,
   "id": "f6d55f36-d019-4216-8bfa-8501c93d986e",
   "metadata": {},
   "outputs": [],
   "source": [
    "#  pip install SpeechRecognition\n"
   ]
  },
  {
   "cell_type": "code",
   "execution_count": 2,
   "id": "f1bb2d68-22ff-4c37-a2c2-670e590b693b",
   "metadata": {},
   "outputs": [],
   "source": [
    "#pip install pywhatkit"
   ]
  },
  {
   "cell_type": "code",
   "execution_count": 3,
   "id": "e41a1a54-9842-4454-a580-fc914b7aa9a1",
   "metadata": {},
   "outputs": [],
   "source": [
    "# pip install pyttsx3"
   ]
  },
  {
   "cell_type": "code",
   "execution_count": 4,
   "id": "2b9e25c0-85df-43a6-8616-5521dc967768",
   "metadata": {},
   "outputs": [],
   "source": [
    "# pip install datetime"
   ]
  },
  {
   "cell_type": "code",
   "execution_count": 5,
   "id": "2505f920-344a-4f11-bfb9-6b5253c75dc9",
   "metadata": {},
   "outputs": [],
   "source": [
    "# pip install wikipedia"
   ]
  },
  {
   "cell_type": "code",
   "execution_count": 6,
   "id": "45620f09-76ba-480f-8c9d-5a743521a25e",
   "metadata": {},
   "outputs": [],
   "source": [
    "# pip install pyjokes"
   ]
  },
  {
   "cell_type": "code",
   "execution_count": 7,
   "id": "590e903b-311f-4f76-80bb-fcc3bbfba26e",
   "metadata": {},
   "outputs": [],
   "source": [
    "# pip install pyaudio"
   ]
  },
  {
   "cell_type": "code",
   "execution_count": 2,
   "id": "8088292d-3b81-41e4-8d34-36add74f8fe5",
   "metadata": {},
   "outputs": [],
   "source": [
    "import speech_recognition as sr\n",
    "import pyttsx3\n",
    "import pywhatkit \n",
    "import datetime\n",
    "import pyjokes\n",
    "import wikipedia\n",
    "import sys\n",
    "import pyaudio\n",
    "import time\n",
    "import pdb"
   ]
  },
  {
   "cell_type": "code",
   "execution_count": 3,
   "id": "8c035bd0-258a-4b3c-b9a4-f0627b07e104",
   "metadata": {},
   "outputs": [
    {
     "name": "stdout",
     "output_type": "stream",
     "text": [
      "Start speaking!\n",
      "kabila is saying: I could not hear you properly.\n",
      "Start speaking!\n",
      "kabila is saying: I could not hear you properly.\n",
      "Start speaking!\n",
      "kabila is saying: I could not hear you properly.\n",
      "Start speaking!\n",
      "kabila is saying: I could not hear you properly.\n",
      "Start speaking!\n",
      "kabila is saying: I could not hear you properly.\n",
      "Start speaking!\n",
      "\n",
      "kabila is saying: I could not hear you properly.\n",
      "Start speaking!\n",
      "kabila is saying: I could not hear you properly.\n",
      "Start speaking!\n",
      "\n",
      "kabila is saying: I could not hear you properly.\n",
      "Start speaking!\n",
      "\n",
      "kabila is saying: I could not hear you properly.\n",
      "Start speaking!\n",
      "kabila is saying: I could not hear you properly.\n",
      "Start speaking!\n",
      "kabila is saying: I could not hear you properly.\n",
      "Start speaking!\n"
     ]
    },
    {
     "name": "stderr",
     "output_type": "stream",
     "text": [
      "\n",
      "KeyboardInterrupt\n",
      "\n"
     ]
    }
   ],
   "source": [
    "# Initialize the recognizer and the text-to-speech engine\n",
    "listener = sr.Recognizer()\n",
    "engine = pyttsx3.init()\n",
    "voices = engine.getProperty('voices')\n",
    "\n",
    "# Set the voice property\n",
    "if len(voices) > 1:\n",
    "    engine.setProperty('voice', voices[1].id)\n",
    "else:\n",
    "    engine.setProperty('voice', voices[0].id)\n",
    "\n",
    "def engine_talk(text):\n",
    "    print(f'kabila is saying: {text}')\n",
    "    engine.say(text)\n",
    "    engine.runAndWait()\n",
    "\n",
    "def user_commands():\n",
    "    try:\n",
    "        with sr.Microphone() as source:\n",
    "            listener.adjust_for_ambient_noise(source)\n",
    "            print(\"Start speaking!\")\n",
    "            audio = listener.listen(source)\n",
    "            command = listener.recognize_google(audio)\n",
    "            command = command.lower()\n",
    "            if 'hello' in command:\n",
    "                command = command.replace('hello', '')\n",
    "                print(f'user said: {command}')\n",
    "                return command\n",
    "    except Exception as e:\n",
    "        print(e)\n",
    "        return \"\"\n",
    "\n",
    "def run_kabila():\n",
    "    command = user_commands()\n",
    "    if command:\n",
    "        if 'play' in command:\n",
    "            song = command.replace('play', '')\n",
    "            engine_talk('playing ' + song)\n",
    "            pywhatkit.playonyt(song)\n",
    "        elif 'time' in command:\n",
    "            current_time = datetime.datetime.now().strftime('%I:%M %p')\n",
    "            engine_talk(\"The current time is: \" + current_time)\n",
    "        elif 'who is' in command:\n",
    "            name = command.replace(\"who is\", \"\")\n",
    "            info = wikipedia.summary(name, 1)\n",
    "            print(info)\n",
    "            engine_talk(info)\n",
    "        elif 'joke' in command:\n",
    "            engine_talk(pyjokes.get_joke())\n",
    "        elif 'stop' in command:\n",
    "            sys.exit()\n",
    "        else:\n",
    "            engine_talk('I could not understand you properly.')\n",
    "    else:\n",
    "        engine_talk('I could not hear you properly.')\n",
    "\n",
    "while True:\n",
    "    run_kabila()"
   ]
  },
  {
   "cell_type": "code",
   "execution_count": null,
   "id": "0c6036e2-08fa-4e88-9102-c6c6ee8379d3",
   "metadata": {},
   "outputs": [],
   "source": []
  },
  {
   "cell_type": "code",
   "execution_count": null,
   "id": "d683df12-cafb-45c1-af80-8489130b73c0",
   "metadata": {},
   "outputs": [],
   "source": []
  },
  {
   "cell_type": "code",
   "execution_count": null,
   "id": "f261fc57-ca57-4caa-b950-2cce71439608",
   "metadata": {},
   "outputs": [],
   "source": []
  }
 ],
 "metadata": {
  "kernelspec": {
   "display_name": "Python 3 (ipykernel)",
   "language": "python",
   "name": "python3"
  },
  "language_info": {
   "codemirror_mode": {
    "name": "ipython",
    "version": 3
   },
   "file_extension": ".py",
   "mimetype": "text/x-python",
   "name": "python",
   "nbconvert_exporter": "python",
   "pygments_lexer": "ipython3",
   "version": "3.11.7"
  }
 },
 "nbformat": 4,
 "nbformat_minor": 5
}
